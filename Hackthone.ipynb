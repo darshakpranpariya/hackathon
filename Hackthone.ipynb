{
 "cells": [
  {
   "cell_type": "code",
   "execution_count": 4,
   "metadata": {},
   "outputs": [
    {
     "name": "stdout",
     "output_type": "stream",
     "text": [
      "Requirement already satisfied: PyPDF2 in e:\\anaconda\\lib\\site-packages (1.26.0)\n"
     ]
    },
    {
     "name": "stderr",
     "output_type": "stream",
     "text": [
      "WARNING: You are using pip version 20.0.2; however, version 20.1.1 is available.\n",
      "You should consider upgrading via the 'e:\\anaconda\\python.exe -m pip install --upgrade pip' command.\n"
     ]
    }
   ],
   "source": [
    "!pip install PyPDF2"
   ]
  },
  {
   "cell_type": "code",
   "execution_count": 5,
   "metadata": {},
   "outputs": [],
   "source": [
    "#make csv file\n",
    "import csv\n",
    "def make_csv(filename,fields):\n",
    "    with open(filename,'w') as csvfile:\n",
    "        writer=csv.DictWriter(csvfile,fieldnames =fields)\n",
    "        writer.writeheader()\n",
    "        \n",
    "def write_in_csv(filename,row):\n",
    "    with open(filename,'w') as csvfile:\n",
    "        writer=csv.DictWriter(csvfile,fieldnames =fields)\n",
    "        writer.writerows(row)"
   ]
  },
  {
   "cell_type": "code",
   "execution_count": 6,
   "metadata": {},
   "outputs": [],
   "source": [
    "fields = ['Id','PaperName','Authors','PublishDate','PMID','Pathways','MiRNAs','Mutations','Species','Drugs','Chemicals','Diseases','Genes','Proteins','Abstract','Conclusion','OtherInfo','TotalPages','TotalRef']\n",
    "make_csv(\"C:/Users/om/Desktop/nlp.csv\",fields)"
   ]
  },
  {
   "cell_type": "code",
   "execution_count": 7,
   "metadata": {},
   "outputs": [],
   "source": [
    "import PyPDF2\n",
    "pdfFileObj = open('C:/Users/om/Downloads/r1.pdf','rb')\n",
    "pdfReader = PyPDF2.PdfFileReader(pdfFileObj)"
   ]
  },
  {
   "cell_type": "code",
   "execution_count": 8,
   "metadata": {},
   "outputs": [
    {
     "name": "stdout",
     "output_type": "stream",
     "text": [
      "8\n"
     ]
    }
   ],
   "source": [
    "# printing number of pages in pdf file \n",
    "print(pdfReader.numPages)"
   ]
  },
  {
   "cell_type": "code",
   "execution_count": 19,
   "metadata": {},
   "outputs": [],
   "source": [
    "# extracting text from page \n",
    "def extracting_text(pdfReader):\n",
    "    totalpages = pdfReader.numPages\n",
    "    twopages_text_for_finding_autors = \"\"\n",
    "    alltext = \"\"\n",
    "    for i in range(pdfReader.numPages):\n",
    "        pageObj = pdfReader.getPage(i)\n",
    "        alltext+=pageObj.extractText()\n",
    "        if(i<2):\n",
    "            twopages_text_for_finding_autors+=pageObj.extractText()\n",
    "         \n",
    "        #get abstract\n",
    "        alltext.upper()\n",
    "        abstract = ''\n",
    "        conclusion = ''\n",
    "        ab_in = 0\n",
    "        con_in = 0\n",
    "        for i in range(0,len(alltext)):\n",
    "            if(alltext[i]=='A'):\n",
    "                if(alltext[i+1]=='B'):\n",
    "                    if(alltext[i+2]=='S'):\n",
    "                        if(alltext[i+3]=='T'):\n",
    "                            ab_in = i\n",
    "                            break\n",
    "        for i in range(ab_in,ab_in+1500):\n",
    "            abstract+=alltext[i]\n",
    "\n",
    "        \n",
    "        for i in range(0,len(alltext)):\n",
    "            if(alltext[i]=='A'):\n",
    "                if(alltext[i+1]=='B'):\n",
    "                    if(alltext[i+2]=='S'):\n",
    "                        if(alltext[i+3]=='T'):\n",
    "                            ab_in = i\n",
    "                            break\n",
    "        for i in range(ab_in,ab_in+1500):\n",
    "            abstract+=alltext[i]\n",
    "\n",
    "            \n",
    "#         index = alltext_list.index('conclusion')\n",
    "#         print(index)\n",
    "#         for i in range(index,index+301):\n",
    "#             conclusion+=alltext_list[i]\n",
    "        \n",
    "        TotalRef = ''\n",
    "#         alltext_list.reverse()\n",
    "#         for i in alltext_list:\n",
    "#             try: \n",
    "#                 TotalRef+=str(int(i))\n",
    "#                 if(TotalRef!=''):\n",
    "#                     break\n",
    "#             except ValueError:\n",
    "#                 pass\n",
    "        \n",
    "    return totalpages,alltext,twopages_text_for_finding_autors,abstract,conclusion,TotalRef"
   ]
  },
  {
   "cell_type": "code",
   "execution_count": 20,
   "metadata": {},
   "outputs": [],
   "source": [
    "#get document info like authorname,title,subject\n",
    "\n",
    "def find_author(some_text):\n",
    "    import difflib\n",
    "    words = some_text.split(\" \")\n",
    "    emails = []\n",
    "    if(len(emails)>0):\n",
    "        for word in words:\n",
    "            if \"@\" in word:\n",
    "                emails.append(word)\n",
    "        emails_clean = emails[0].split(\"\\n\")\n",
    "        actual_email = [a for a in emails_clean if \"@\" in a]\n",
    "        actual_email = actual_email[0]\n",
    "        maybe_name = actual_email.split(\"@\")[0]\n",
    "        all_words_lists = [a.split(\"\\n\") for a in words]\n",
    "        words = [a for sublist in all_words_lists for a in sublist]\n",
    "        words.remove(actual_email)\n",
    "        return difflib.get_close_matches(maybe_name, words)\n",
    "    return None\n",
    "\n",
    "def get_document_info(pdfReader,twopages_text_for_finding_autors):\n",
    "    '''\n",
    "        return author_name,title,published_date\n",
    "    '''\n",
    "    docInfo = pdfReader.getDocumentInfo()\n",
    "    author_name = ''\n",
    "    title = ''\n",
    "    published_date = ''\n",
    "    author_name = docInfo.author\n",
    "    if(author_name==''):\n",
    "        author_name = find_author(twopages_text_for_finding_autors)\n",
    "    \n",
    "    title = docInfo.title\n",
    "    if(title==''):\n",
    "        title = docInfo.subject\n",
    "    \n",
    "    pmid = ''\n",
    "    published_date = ''\n",
    "    months = ['January', 'February', 'March', 'April', 'May', 'June', 'July',\n",
    "          'August', 'September', 'October', 'November', 'December']\n",
    "    pageObj = pdfReader.getPage(0)\n",
    "    line = pageObj.extractText()\n",
    "    for word in line.split():\n",
    "        try:\n",
    "            if(len(word)==4):\n",
    "                if(int(word)>2018):\n",
    "                    published_date+=word+' '\n",
    "            word = word.substring(0,1).toUpperCase() + word.substring(1).toLowerCase();\n",
    "            if(word in months):\n",
    "                published_date+=word+' '\n",
    "            if(len(word)==8):\n",
    "                pmid+=str(int(word))\n",
    "        except ValueError:\n",
    "            pass\n",
    "        \n",
    "    return author_name,title,published_date,pmid\n",
    "    "
   ]
  },
  {
   "cell_type": "code",
   "execution_count": 21,
   "metadata": {},
   "outputs": [],
   "source": [
    "totalpages,alltext,twopages_text_for_finding_autors,abstract,conclusion,TotalRef = extracting_text(pdfReader)"
   ]
  },
  {
   "cell_type": "code",
   "execution_count": 22,
   "metadata": {},
   "outputs": [
    {
     "name": "stdout",
     "output_type": "stream",
     "text": [
      "ABSTRACT:\n",
      " Coronavirus disease 2019 (COVID-19) is a global pandemic \n",
      "affecting 185 countries and >3\n",
      " 000 000 patients worldwide as of April 28, 2020. COVID-19 is caused by severe acute respiratory syndrome \n",
      "\n",
      "coronavirus 2, which invades cells through the angiotensin-converting \n",
      "\n",
      "enzyme 2 receptor. Among patients with COVID-19, there is a high \n",
      "\n",
      "prevalence of cardiovascular disease, and >7% of patients experience \n",
      "myocardial injury from the infection (22% of critically ill patients). \n",
      "Although angiotensin-converting enzyme 2 serves as the portal for infection, the role of angiotensin-converting enzyme inhibitors or \n",
      "angiotensin receptor blockers requires further investigation. COVID-19 \n",
      "\n",
      "poses a challenge for heart transplantation, affecting donor selection, \n",
      "immunosuppression, and posttransplant management. There are a \n",
      "number of promising therapies under active investigation to treat and \n",
      "\n",
      "prevent COVID-19.\n",
      "Coronavirus disease 2019 (COVID-19) is a global pandemic. A\n",
      "s of April 28, \n",
      "2020, infected patients were present in 185 countries and there were \n",
      ">3 000 000 cases reported worldwide, with more than 210\n",
      " 000 fatalities.1 The outbreak began in China, but the number of cases outside of China exceed\n",
      "-ed those in China by March 15, 2020, and rose at an exponential rate. The num\n",
      "-ber of fatalities in several countries now exceeds the total in China. COVID-19 \n",
      "interacts with the cardiovascular system on multiple levels, increasing morbidity \n",
      "\n",
      "in patients with underlying cardiova\n"
     ]
    }
   ],
   "source": [
    "print(abstract)"
   ]
  },
  {
   "cell_type": "code",
   "execution_count": null,
   "metadata": {},
   "outputs": [],
   "source": []
  }
 ],
 "metadata": {
  "kernelspec": {
   "display_name": "Python 3",
   "language": "python",
   "name": "python3"
  },
  "language_info": {
   "codemirror_mode": {
    "name": "ipython",
    "version": 3
   },
   "file_extension": ".py",
   "mimetype": "text/x-python",
   "name": "python",
   "nbconvert_exporter": "python",
   "pygments_lexer": "ipython3",
   "version": "3.7.3"
  }
 },
 "nbformat": 4,
 "nbformat_minor": 2
}
